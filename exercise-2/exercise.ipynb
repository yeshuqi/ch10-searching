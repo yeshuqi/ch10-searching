{
 "cells": [
  {
   "cell_type": "markdown",
   "metadata": {},
   "source": [
    "# Exercise 2\n",
    "Add the specified code for each code cell, running the cells _in order_."
   ]
  },
  {
   "cell_type": "markdown",
   "metadata": {},
   "source": [
    "Create the following variables:\n",
    "\n",
    "- A (constant) variable **`LIST_SIZE`** that will represent the size of a list. Give this constant a value of **`10`**.\n",
    "\n",
    "- A list **`numbers`** that is a list of `LIST_SIZE` numbers randomly chosen from between `0` and `LIST_SIZE**2` (the square of the list size). Use the `random.sample()` function to chose this list.\n",
    "\n",
    "- A list **`targets`** that is a list of `1000` numbers randomly chosen from between `0` and `LIST_SIZE**2`. Use the `random.choices()` function to chose \"with replacement\" (allowing you to have repeated items within your list of 1000)."
   ]
  },
  {
   "cell_type": "code",
   "execution_count": 48,
   "metadata": {},
   "outputs": [
    {
     "data": {
      "text/plain": [
       "[[82, 18, 41, 60, 47, 80, 85, 2, 27, 9]]"
      ]
     },
     "execution_count": 48,
     "metadata": {},
     "output_type": "execute_result"
    }
   ],
   "source": [
    "import random\n",
    "LIST_SIZE = 10\n",
    "numbers = []\n",
    "targets = []\n",
    "a = list(range(0, LIST_SIZE**2))\n",
    "numbers.append(random.sample(a, LIST_SIZE))\n",
    "targets.append(random.choices(a, k = 1000))\n",
    "numbers"
   ]
  },
  {
   "cell_type": "markdown",
   "metadata": {},
   "source": [
    "Define a function **`linear_search()`** that takes in a list and a target value, performs a linear search for that target, and returns the index of that target in the list (or -1 if the target is not in the list)."
   ]
  },
  {
   "cell_type": "code",
   "execution_count": 47,
   "metadata": {},
   "outputs": [
    {
     "data": {
      "text/plain": [
       "-1"
      ]
     },
     "execution_count": 47,
     "metadata": {},
     "output_type": "execute_result"
    }
   ],
   "source": [
    "def linear_search(a_list, target):\n",
    "    index = 0\n",
    "    for element in a_list:\n",
    "        if element == target:\n",
    "            return index\n",
    "        else:\n",
    "            return -1\n",
    "        index += 1\n",
    "linear_search(targets, 71)"
   ]
  },
  {
   "cell_type": "markdown",
   "metadata": {},
   "source": [
    "Import the Python [time](https://docs.python.org/3/library/time.html) module. The `time.time()` function will return the \"current\" time (in seconds since \"Unix epoch\", [Jan 01, 1970](https://en.wikipedia.org/wiki/Unix_time)).\n",
    "\n",
    "Print out the current time in seconds since epoch."
   ]
  },
  {
   "cell_type": "code",
   "execution_count": 3,
   "metadata": {},
   "outputs": [
    {
     "name": "stdout",
     "output_type": "stream",
     "text": [
      "1493073289.428501\n"
     ]
    }
   ],
   "source": []
  },
  {
   "cell_type": "markdown",
   "metadata": {},
   "source": [
    "Use the `time.time()` function to \"time\" how long it takes to **linear search** the `numbers` list for each of the 1000 values in `targets`. Save the `time.time()` start time immediately before doing these searches, and then save the `time.time()` end time immediately afterwards. Print out the elapsed time for the 1000 searches (in seconds)."
   ]
  },
  {
   "cell_type": "code",
   "execution_count": 4,
   "metadata": {},
   "outputs": [
    {
     "name": "stdout",
     "output_type": "stream",
     "text": [
      "Time for 1000 searches:  0.7957949638366699 seconds\n"
     ]
    }
   ],
   "source": []
  },
  {
   "cell_type": "markdown",
   "metadata": {},
   "source": [
    "Define a function **`binary_search()`** that takes in a list and a target value, performs a _binary search_ for that target, and returns the index of that target in the list (or -1 if the target is not in the list)."
   ]
  },
  {
   "cell_type": "code",
   "execution_count": 5,
   "metadata": {},
   "outputs": [],
   "source": []
  },
  {
   "cell_type": "markdown",
   "metadata": {},
   "source": [
    "Use the `time.time()` function to \"time\" how long it takes to **binary search** the `numbers` list for each of the 1000 values in `targets`. Save the `time.time()` start time immediately before doing these searches, and then save the `time.time()` end time immediately afterwards. Print out the elapsed time for the 1000 searches (in seconds).\n",
    "- Remember that a binary search needs a **sorted** list, so you should `sort()` the numbers _BEFORE_ you time the searches!"
   ]
  },
  {
   "cell_type": "code",
   "execution_count": 6,
   "metadata": {},
   "outputs": [
    {
     "name": "stdout",
     "output_type": "stream",
     "text": [
      "Time for 1000 searches:  0.004888057708740234 seconds\n"
     ]
    }
   ],
   "source": []
  },
  {
   "cell_type": "markdown",
   "metadata": {},
   "source": [
    "Define a function **`selection_search()`** that takes in a list and performs an in-place _selection sort_ on that list, thereby sorting it."
   ]
  },
  {
   "cell_type": "code",
   "execution_count": 7,
   "metadata": {
    "collapsed": true
   },
   "outputs": [],
   "source": []
  },
  {
   "cell_type": "markdown",
   "metadata": {},
   "source": [
    "Use the `time.time()` function to \"time\" how long it takes to **selection sort** the `numbers` list Save the `time.time()` start time immediately before sorting, and then save the `time.time()` end time immediately afterwards. Print out the elapsed time (in seconds).\n",
    "- You should `random.shuffle()` the list before you sort it (since it is sorted from the binary search)\n",
    "- Multiple the time elapsed by 1000 to be able to compare with the 1000 search tests performed earlier."
   ]
  },
  {
   "cell_type": "code",
   "execution_count": 8,
   "metadata": {},
   "outputs": [
    {
     "name": "stdout",
     "output_type": "stream",
     "text": [
      "Time to sort:  5095.20411491394 seconds\n"
     ]
    }
   ],
   "source": []
  },
  {
   "cell_type": "markdown",
   "metadata": {},
   "source": [
    "**DO THIS** Change the `LIST_SIZE` variable to `100` and re-run the entire notebook. What changes do you see to the timer results? Try with a `LIST_SIZE` of `1000` and `10000` (the later will take a few seconds to sort!)"
   ]
  }
 ],
 "metadata": {
  "kernelspec": {
   "display_name": "Python 3",
   "language": "python",
   "name": "python3"
  },
  "language_info": {
   "codemirror_mode": {
    "name": "ipython",
    "version": 3
   },
   "file_extension": ".py",
   "mimetype": "text/x-python",
   "name": "python",
   "nbconvert_exporter": "python",
   "pygments_lexer": "ipython3",
   "version": "3.7.1"
  },
  "toc": {
   "colors": {
    "hover_highlight": "#DAA520",
    "running_highlight": "#FF0000",
    "selected_highlight": "#FFD700"
   },
   "moveMenuLeft": true,
   "nav_menu": {
    "height": "30px",
    "width": "252px"
   },
   "navigate_menu": true,
   "number_sections": true,
   "sideBar": true,
   "threshold": 4,
   "toc_cell": false,
   "toc_section_display": "block",
   "toc_window_display": false,
   "widenNotebook": false
  }
 },
 "nbformat": 4,
 "nbformat_minor": 2
}
